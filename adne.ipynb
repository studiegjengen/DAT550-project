{
 "cells": [
  {
   "cell_type": "code",
   "execution_count": 46,
   "metadata": {},
   "outputs": [],
   "source": [
    "from facenet_pytorch import MTCNN\n",
    "import cv2\n",
    "import os\n",
    "import pandas as pd\n",
    "import numpy as np"
   ]
  },
  {
   "cell_type": "code",
   "execution_count": 50,
   "metadata": {},
   "outputs": [],
   "source": [
    "detector = MTCNN()\n",
    "\n",
    "def find_faces_in_videos(video_directory, save_directory, video_name, data):\n",
    "    cap = cv2.VideoCapture(f'{video_directory}{video_name}')\n",
    "\n",
    "    def get_frame(sec, current_count, name, label):\n",
    "        cap.set(cv2.CAP_PROP_POS_MSEC, sec*1000)\n",
    "        hasFrames,image = cap.read()\n",
    "        if hasFrames:\n",
    "            faces = detector.detect(image)\n",
    "            # Get typeof faces\n",
    "            if type(faces[0]) == np.ndarray:\n",
    "                for i in range(len(faces[0])):\n",
    "                    try:\n",
    "                        accuracy = faces[1][i]\n",
    "                        if(accuracy > 0.99):\n",
    "                            x1 = int(faces[0][i][0])\n",
    "                            y1 = int(faces[0][i][1])\n",
    "                            x2 = int(faces[0][i][2])\n",
    "                            y2 = int(faces[0][i][3])\n",
    "                            current_count += 1\n",
    "                            face_image = image[y1:y2, x1:x2]\n",
    "\n",
    "                            # Resize image\n",
    "                            face_image = cv2.resize(face_image, (128, 128))\n",
    "\n",
    "                            # Save image \n",
    "                            cv2.imwrite(f\"{save_directory}{label}/{name}{count}.jpg\", face_image)\n",
    "                    except:\n",
    "                        print(\"Some exception happened\")\n",
    "        return hasFrames, current_count\n",
    "\n",
    "    label = data.loc[video_name, 'label']\n",
    "\n",
    "    if not os.path.exists(f'{save_directory}{label}'):\n",
    "        os.makedirs(f'{save_directory}{label}')\n",
    "\n",
    "    sec = 0\n",
    "    frame_rate = 2 #//it will capture image in each second\n",
    "    count = 0\n",
    "    name = video_name.replace(\".mp4\", \"\")\n",
    "    success, count = get_frame(sec, 0, name, label)\n",
    "    while success:\n",
    "        success, count = get_frame(sec, count, name, label)\n",
    "        sec += frame_rate"
   ]
  },
  {
   "cell_type": "code",
   "execution_count": 51,
   "metadata": {},
   "outputs": [
    {
     "name": "stderr",
     "output_type": "stream",
     "text": [
      "/Library/Frameworks/Python.framework/Versions/3.9/lib/python3.9/site-packages/torch/nn/functional.py:780: UserWarning: Note that order of the arguments: ceil_mode and return_indices will changeto match the args list in nn.MaxPool2d in a future release.\n",
      "  warnings.warn(\"Note that order of the arguments: ceil_mode and return_indices will change\"\n"
     ]
    },
    {
     "name": "stdout",
     "output_type": "stream",
     "text": [
      "Some exception happened\n",
      "Some exception happened\n",
      "Some exception happened\n",
      "Some exception happened\n",
      "Some exception happened\n",
      "Some exception happened\n",
      "Some exception happened\n",
      "Some exception happened\n",
      "Some exception happened\n",
      "Some exception happened\n",
      "Some exception happened\n",
      "Some exception happened\n",
      "Some exception happened\n",
      "Some exception happened\n",
      "Some exception happened\n",
      "Some exception happened\n",
      "Some exception happened\n",
      "Some exception happened\n",
      "Some exception happened\n",
      "Some exception happened\n",
      "Some exception happened\n",
      "Some exception happened\n",
      "Some exception happened\n",
      "Some exception happened\n",
      "Some exception happened\n",
      "Some exception happened\n",
      "Some exception happened\n",
      "Some exception happened\n",
      "Some exception happened\n",
      "Some exception happened\n",
      "Some exception happened\n",
      "Some exception happened\n",
      "Some exception happened\n",
      "Some exception happened\n",
      "Some exception happened\n",
      "Some exception happened\n",
      "Some exception happened\n",
      "Some exception happened\n",
      "Some exception happened\n",
      "Some exception happened\n",
      "Some exception happened\n",
      "Some exception happened\n",
      "Some exception happened\n",
      "Some exception happened\n",
      "Some exception happened\n",
      "Some exception happened\n",
      "Some exception happened\n",
      "Some exception happened\n",
      "Some exception happened\n",
      "Some exception happened\n",
      "Some exception happened\n",
      "Some exception happened\n",
      "Some exception happened\n",
      "Some exception happened\n",
      "Some exception happened\n",
      "Some exception happened\n"
     ]
    }
   ],
   "source": [
    "# Read frames from video\n",
    "subdirs = [\"dfdc_train_part_0\"]\n",
    "\n",
    "# Ensure directory exists\n",
    "for dir in subdirs:\n",
    "    path = f\"./data/{dir}/\"\n",
    "    # Get all files in directory\n",
    "    files = os.listdir(path)\n",
    "    # Only keep .mp4 files\n",
    "    files = [f for f in files if f.endswith(\".mp4\")]\n",
    "    data = pd.read_json(f\"./data/{dir}/metadata.json\").T\n",
    "    for file in files:\n",
    "        find_faces_in_videos(path, \"./data/processed/\", file, data)\n"
   ]
  }
 ],
 "metadata": {
  "interpreter": {
   "hash": "aee8b7b246df8f9039afb4144a1f6fd8d2ca17a180786b69acc140d282b71a49"
  },
  "kernelspec": {
   "display_name": "Python 3.9.4 64-bit",
   "language": "python",
   "name": "python3"
  },
  "language_info": {
   "codemirror_mode": {
    "name": "ipython",
    "version": 3
   },
   "file_extension": ".py",
   "mimetype": "text/x-python",
   "name": "python",
   "nbconvert_exporter": "python",
   "pygments_lexer": "ipython3",
   "version": "3.9.4"
  },
  "orig_nbformat": 4
 },
 "nbformat": 4,
 "nbformat_minor": 2
}
