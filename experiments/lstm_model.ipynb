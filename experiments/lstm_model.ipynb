{
 "cells": [
  {
   "cell_type": "code",
   "execution_count": 1,
   "metadata": {},
   "outputs": [],
   "source": [
    "from keras.models import Sequential\n",
    "from keras.layers import Dense, Conv3D, Dropout, BatchNormalization, MaxPooling3D, Flatten, ConvLSTM2D, Rescaling\n",
    "import tensorflow.keras.preprocessing as tf_preprocessing\n",
    "from tensorflow.keras.optimizers import Adam\n",
    "from tensorflow.keras.utils import to_categorical\n",
    "import numpy as np\n",
    "from os import listdir\n",
    "from os.path import isfile, join\n",
    "import matplotlib.pyplot as plt\n",
    "\n",
    "from tqdm import tqdm\n",
    "import wandb\n",
    "from keras.callbacks import EarlyStopping, ModelCheckpoint\n",
    "from wandb.keras import WandbCallback"
   ]
  },
  {
   "cell_type": "code",
   "execution_count": 2,
   "metadata": {},
   "outputs": [],
   "source": [
    "# pip uninstall keras -y && pip uninstall keras-nightly -y && pip uninstall keras-Preprocessing -y && pip uninstall keras-vis -y && pip uninstall tensorflow -y\n",
    " \n",
    "# pip install tensorflow && pip install keras"
   ]
  },
  {
   "cell_type": "markdown",
   "metadata": {},
   "source": [
    "### Wandb stuff"
   ]
  },
  {
   "cell_type": "code",
   "execution_count": 3,
   "metadata": {},
   "outputs": [
    {
     "name": "stderr",
     "output_type": "stream",
     "text": [
      "Failed to detect the name of this notebook, you can set it manually with the WANDB_NOTEBOOK_NAME environment variable to enable code saving.\n",
      "\u001b[34m\u001b[1mwandb\u001b[0m: Currently logged in as: \u001b[33mdat550\u001b[0m (use `wandb login --relogin` to force relogin)\n"
     ]
    },
    {
     "data": {
      "text/html": [
       "wandb version 0.12.16 is available!  To upgrade, please run:\n",
       " $ pip install wandb --upgrade"
      ],
      "text/plain": [
       "<IPython.core.display.HTML object>"
      ]
     },
     "metadata": {},
     "output_type": "display_data"
    },
    {
     "data": {
      "text/html": [
       "Tracking run with wandb version 0.12.14"
      ],
      "text/plain": [
       "<IPython.core.display.HTML object>"
      ]
     },
     "metadata": {},
     "output_type": "display_data"
    },
    {
     "data": {
      "text/html": [
       "Run data is saved locally in <code>c:\\Users\\henriks\\Documents\\skole\\master_linje\\2_semester\\DAT550\\prosjekt\\DAT550-project\\wandb\\run-20220506_232138-1ql9qsi3</code>"
      ],
      "text/plain": [
       "<IPython.core.display.HTML object>"
      ]
     },
     "metadata": {},
     "output_type": "display_data"
    },
    {
     "data": {
      "text/html": [
       "Syncing run <strong><a href=\"https://wandb.ai/dat550/deepfake-lstm/runs/1ql9qsi3\" target=\"_blank\">lunar-wildflower-22</a></strong> to <a href=\"https://wandb.ai/dat550/deepfake-lstm\" target=\"_blank\">Weights & Biases</a> (<a href=\"https://wandb.me/run\" target=\"_blank\">docs</a>)<br/>"
      ],
      "text/plain": [
       "<IPython.core.display.HTML object>"
      ]
     },
     "metadata": {},
     "output_type": "display_data"
    }
   ],
   "source": [
    "config_defaults = {\n",
    "    'epochs': 10,\n",
    "    'batch_size': 2,\n",
    "    'learning_rate': 0.001,\n",
    "    'dropout': 0.1,\n",
    "}\n",
    "wandb.init(config=config_defaults, project=\"deepfake-lstm\", entity=\"dat550\")\n",
    "config = wandb.config"
   ]
  },
  {
   "cell_type": "markdown",
   "metadata": {},
   "source": [
    "### Prepare data"
   ]
  },
  {
   "cell_type": "code",
   "execution_count": 4,
   "metadata": {},
   "outputs": [
    {
     "data": {
      "text/plain": [
       "(1, 128, 128, 3)"
      ]
     },
     "execution_count": 4,
     "metadata": {},
     "output_type": "execute_result"
    }
   ],
   "source": [
    "# hack, to forche length of 22\n",
    "len_22_ds = np.full((1, 128, 128, 3), 1)\n",
    "len_22_ds.shape"
   ]
  },
  {
   "cell_type": "code",
   "execution_count": 5,
   "metadata": {},
   "outputs": [],
   "source": [
    "def get_file_dict(folder):\n",
    "    onlyfiles = [f for f in listdir(folder) if isfile(join(folder, f))]\n",
    "    file_dict = {}\n",
    "    for file in onlyfiles:\n",
    "        video_name = file.split(\".\")[0][0:10]\n",
    "        if video_name not in file_dict:\n",
    "            file_dict[video_name] = []\n",
    "        file_dict[video_name].append(file)\n",
    "\n",
    "\n",
    "    # sort file_dict values\n",
    "    for key in file_dict:\n",
    "        file_dict[key] = sorted(file_dict[key], key=lambda x: int(x.split(\".\")[0][10:]))\n",
    "    return file_dict\n",
    "\n",
    "def load_image_to_array(path):\n",
    "    image = tf_preprocessing.image.load_img(path)\n",
    "    input_arr = tf_preprocessing.image.img_to_array(image)\n",
    "    return input_arr\n",
    "\n",
    "def load_list_of_inmages_to_array(list_of_images, folder):\n",
    "    input_arr = []\n",
    "    for image in list_of_images:\n",
    "        input_arr.append(load_image_to_array(f'{folder}/{image}'))\n",
    "    return np.array(input_arr)\n",
    "\n",
    "def get_padded_video_data(folder):\n",
    "    labels = [\"REAL\", \"FAKE\"]\n",
    "\n",
    "    all_data = []\n",
    "    label_arr = []\n",
    "\n",
    "    for i, label in enumerate(labels):\n",
    "        file_dict = get_file_dict(folder + f\"/{label}\")\n",
    "        for key in tqdm(file_dict):\n",
    "            all_data.append(load_list_of_inmages_to_array(file_dict[key], f\"{folder}/{label}\"))\n",
    "            label_arr.append(i)\n",
    "\n",
    "    # add len_22_ds to all_data\n",
    "    all_data.append(len_22_ds)\n",
    "\n",
    "    # convert and pad data\n",
    "    all_data = np.array(all_data)\n",
    "    label_arr = np.array(label_arr)\n",
    "    \n",
    "\n",
    "    padded_data = tf_preprocessing.sequence.pad_sequences(\n",
    "    all_data,\n",
    "    maxlen=22, # TODO: fjern dette en dag\n",
    "    dtype='int32',\n",
    "    # padding='pre',\n",
    "    # truncating='pre',\n",
    "    # value=0.0,\n",
    "    )\n",
    "\n",
    "    # remove len_22_ds from padded_data\n",
    "    padded_data = padded_data[:-1]\n",
    "\n",
    "    return padded_data, label_arr"
   ]
  },
  {
   "cell_type": "markdown",
   "metadata": {},
   "source": [
    "### Define model"
   ]
  },
  {
   "cell_type": "code",
   "execution_count": 6,
   "metadata": {},
   "outputs": [
    {
     "name": "stderr",
     "output_type": "stream",
     "text": [
      "c:\\Users\\henriks\\AppData\\Local\\Programs\\Python\\Python39\\lib\\site-packages\\keras\\optimizers\\optimizer_v2\\adam.py:110: UserWarning: The `lr` argument is deprecated, use `learning_rate` instead.\n",
      "  super(Adam, self).__init__(name, **kwargs)\n"
     ]
    },
    {
     "name": "stdout",
     "output_type": "stream",
     "text": [
      "Model: \"sequential\"\n",
      "_________________________________________________________________\n",
      " Layer (type)                Output Shape              Param #   \n",
      "=================================================================\n",
      " rescaling (Rescaling)       (None, 22, 128, 128, 3)   0         \n",
      "                                                                 \n",
      " conv3d (Conv3D)             (None, 22, 128, 128, 32)  800       \n",
      "                                                                 \n",
      " batch_normalization (BatchN  (None, 22, 128, 128, 32)  128      \n",
      " ormalization)                                                   \n",
      "                                                                 \n",
      " conv_lstm2d (ConvLSTM2D)    (None, 22, 128, 128, 16)  12352     \n",
      "                                                                 \n",
      " batch_normalization_1 (Batc  (None, 22, 128, 128, 16)  64       \n",
      " hNormalization)                                                 \n",
      "                                                                 \n",
      " dropout (Dropout)           (None, 22, 128, 128, 16)  0         \n",
      "                                                                 \n",
      " max_pooling3d (MaxPooling3D  (None, 11, 64, 64, 16)   0         \n",
      " )                                                               \n",
      "                                                                 \n",
      " conv_lstm2d_1 (ConvLSTM2D)  (None, 11, 64, 64, 16)    8256      \n",
      "                                                                 \n",
      " batch_normalization_2 (Batc  (None, 11, 64, 64, 16)   64        \n",
      " hNormalization)                                                 \n",
      "                                                                 \n",
      " dropout_1 (Dropout)         (None, 11, 64, 64, 16)    0         \n",
      "                                                                 \n",
      " max_pooling3d_1 (MaxPooling  (None, 5, 32, 32, 16)    0         \n",
      " 3D)                                                             \n",
      "                                                                 \n",
      " flatten (Flatten)           (None, 81920)             0         \n",
      "                                                                 \n",
      " batch_normalization_3 (Batc  (None, 81920)            327680    \n",
      " hNormalization)                                                 \n",
      "                                                                 \n",
      " dense (Dense)               (None, 32)                2621472   \n",
      "                                                                 \n",
      " dense_1 (Dense)             (None, 1)                 33        \n",
      "                                                                 \n",
      "=================================================================\n",
      "Total params: 2,970,849\n",
      "Trainable params: 2,806,881\n",
      "Non-trainable params: 163,968\n",
      "_________________________________________________________________\n",
      "None\n"
     ]
    }
   ],
   "source": [
    "model = Sequential([\n",
    "    Rescaling(1./255),\n",
    "    Conv3D(filters=32, kernel_size=(2,2,2),input_shape=(22, 128, 128, 3),\n",
    "        activation='relu', padding='same', data_format='channels_last'),\n",
    "    BatchNormalization(),\n",
    "\n",
    "    ConvLSTM2D(filters=16, kernel_size=(2, 2), padding='same', return_sequences=True),\n",
    "    BatchNormalization(),\n",
    "    Dropout(0.3),\n",
    "    MaxPooling3D(pool_size=(2,2,2)),\n",
    "\n",
    "    ConvLSTM2D(filters=16, kernel_size=(2, 2),\n",
    "    padding='same', return_sequences=True),\n",
    "    BatchNormalization(),\n",
    "    Dropout(0.3),\n",
    "    MaxPooling3D(pool_size=(2,2,2)),\n",
    "\n",
    "    Flatten(),\n",
    "    BatchNormalization(),\n",
    "    Dense(32,activation='elu'),\n",
    "    Dense(1,activation='sigmoid'),\n",
    "])\n",
    "\n",
    "optimizer = Adam(lr=config.learning_rate)\n",
    "model.build((None, 22, 128, 128, 3)) \n",
    "model.compile(optimizer=optimizer, loss='binary_crossentropy', metrics=['accuracy'])\n",
    "print(model.summary())"
   ]
  },
  {
   "cell_type": "markdown",
   "metadata": {},
   "source": [
    "### Train model"
   ]
  },
  {
   "cell_type": "code",
   "execution_count": 7,
   "metadata": {},
   "outputs": [
    {
     "name": "stderr",
     "output_type": "stream",
     "text": [
      "100%|██████████| 1888/1888 [00:10<00:00, 183.55it/s]\n",
      "100%|██████████| 1814/1814 [00:09<00:00, 192.12it/s]\n",
      "C:\\Users\\henriks\\AppData\\Local\\Temp/ipykernel_3796/117894631.py:43: VisibleDeprecationWarning: Creating an ndarray from ragged nested sequences (which is a list-or-tuple of lists-or-tuples-or ndarrays with different lengths or shapes) is deprecated. If you meant to do this, you must specify 'dtype=object' when creating the ndarray.\n",
      "  all_data = np.array(all_data)\n"
     ]
    }
   ],
   "source": [
    "# Get data\n",
    "# takes approx 2 min\n",
    "folder = \"./data/data-large/data/train\"\n",
    "train_x, train_y = get_padded_video_data(folder) "
   ]
  },
  {
   "cell_type": "code",
   "execution_count": 8,
   "metadata": {},
   "outputs": [
    {
     "name": "stderr",
     "output_type": "stream",
     "text": [
      "100%|██████████| 1115/1115 [00:03<00:00, 350.96it/s]\n",
      "100%|██████████| 1053/1053 [00:02<00:00, 391.44it/s]\n",
      "C:\\Users\\henriks\\AppData\\Local\\Temp/ipykernel_3796/117894631.py:43: VisibleDeprecationWarning: Creating an ndarray from ragged nested sequences (which is a list-or-tuple of lists-or-tuples-or ndarrays with different lengths or shapes) is deprecated. If you meant to do this, you must specify 'dtype=object' when creating the ndarray.\n",
      "  all_data = np.array(all_data)\n"
     ]
    }
   ],
   "source": [
    "# get validation data\n",
    "folder = \"./data/data-large/data/validation\"\n",
    "val_x, val_y = get_padded_video_data(folder)\n",
    "\n",
    "# only pick some movies..\n",
    "n = 20\n",
    "index = np.random.choice(val_x.shape[0], n, replace=False)\n",
    "val_x = val_x[index]\n",
    "val_y = val_y[index]"
   ]
  },
  {
   "cell_type": "code",
   "execution_count": 9,
   "metadata": {},
   "outputs": [
    {
     "name": "stdout",
     "output_type": "stream",
     "text": [
      "train_x shape: (3702, 22, 128, 128, 3), train_y shape: (3702,)\n",
      "val_x shape: (20, 22, 128, 128, 3), val_y shape: (20,)\n"
     ]
    }
   ],
   "source": [
    "print(f\"train_x shape: {train_x.shape}, train_y shape: {train_y.shape}\")\n",
    "print(f\"val_x shape: {val_x.shape}, val_y shape: {val_y.shape}\")"
   ]
  },
  {
   "cell_type": "code",
   "execution_count": 10,
   "metadata": {},
   "outputs": [],
   "source": [
    "# Wandb stuff\n",
    "model_file = f'f{wandb.run.name}_model.h5'\n",
    "\n",
    "custom_callbacks = [\n",
    "    EarlyStopping(\n",
    "        monitor = 'val_loss',\n",
    "        mode = 'min',\n",
    "        patience = 5,\n",
    "        verbose = 1\n",
    "    ),\n",
    "    ModelCheckpoint(\n",
    "        filepath = model_file,\n",
    "        monitor = 'val_loss',\n",
    "        mode = 'min',\n",
    "        verbose = 1,\n",
    "        save_best_only = True\n",
    "    ),\n",
    "    WandbCallback()\n",
    "]"
   ]
  },
  {
   "cell_type": "code",
   "execution_count": 11,
   "metadata": {},
   "outputs": [
    {
     "name": "stdout",
     "output_type": "stream",
     "text": [
      "train_x shape: (10, 22, 128, 128, 3), train_y shape: (10,)\n",
      "Epoch 1/5\n",
      "5/5 [==============================] - ETA: 0s - loss: 9.4885 - accuracy: 0.4000\n",
      "Epoch 1: val_loss improved from inf to 0.91063, saving model to flunar-wildflower-22_model.h5\n",
      "5/5 [==============================] - 39s 7s/step - loss: 9.4885 - accuracy: 0.4000 - val_loss: 0.9106 - val_accuracy: 0.6000 - _timestamp: 1651872211.0000 - _runtime: 113.0000\n",
      "Epoch 2/5\n",
      "5/5 [==============================] - ETA: 0s - loss: 26.6366 - accuracy: 0.6000\n",
      "Epoch 2: val_loss improved from 0.91063 to 0.67565, saving model to flunar-wildflower-22_model.h5\n",
      "5/5 [==============================] - 31s 7s/step - loss: 26.6366 - accuracy: 0.6000 - val_loss: 0.6756 - val_accuracy: 0.6000 - _timestamp: 1651872242.0000 - _runtime: 144.0000\n",
      "Epoch 3/5\n",
      "5/5 [==============================] - ETA: 0s - loss: 8.5151 - accuracy: 0.4000  \n",
      "Epoch 3: val_loss did not improve from 0.67565\n",
      "5/5 [==============================] - 31s 6s/step - loss: 8.5151 - accuracy: 0.4000 - val_loss: 1.3919 - val_accuracy: 0.4000 - _timestamp: 1651872272.0000 - _runtime: 174.0000\n",
      "Epoch 4/5\n",
      "5/5 [==============================] - ETA: 0s - loss: 5.9650 - accuracy: 0.6000\n",
      "Epoch 4: val_loss did not improve from 0.67565\n",
      "5/5 [==============================] - 31s 7s/step - loss: 5.9650 - accuracy: 0.6000 - val_loss: 1.8500 - val_accuracy: 0.4000 - _timestamp: 1651872303.0000 - _runtime: 205.0000\n",
      "Epoch 5/5\n",
      "5/5 [==============================] - ETA: 0s - loss: 8.8309 - accuracy: 0.5000\n",
      "Epoch 5: val_loss did not improve from 0.67565\n",
      "5/5 [==============================] - 31s 7s/step - loss: 8.8309 - accuracy: 0.5000 - val_loss: 0.9772 - val_accuracy: 0.4000 - _timestamp: 1651872334.0000 - _runtime: 236.0000\n"
     ]
    }
   ],
   "source": [
    "RUN_LOCAL = False\n",
    "if RUN_LOCAL:\n",
    "    # slice the data for testing:\n",
    "    n = 10\n",
    "    index = np.random.choice(train_x.shape[0], n, replace=False)\n",
    "\n",
    "    short_train_x = train_x[index]\n",
    "    short_train_y = train_y[index]\n",
    "    print(f\"train_x shape: {short_train_x.shape}, train_y shape: {short_train_y.shape}\")\n",
    "    #train_x = short_train_x\n",
    "    #train_y = short_train_y\n",
    "\n",
    "history = model.fit(train_x, train_y, epochs=config.epochs, batch_size=config.batch_size,\n",
    "    validation_data = (val_x, val_y),\n",
    "    callbacks = custom_callbacks\n",
    "    )"
   ]
  },
  {
   "cell_type": "code",
   "execution_count": 15,
   "metadata": {},
   "outputs": [
    {
     "data": {
      "image/png": "[encoded data removed]",
      "text/plain": [
       "<Figure size 576x576 with 2 Axes>"
      ]
     },
     "metadata": {
      "needs_background": "light"
     },
     "output_type": "display_data"
    }
   ],
   "source": [
    "acc = history.history['accuracy']\n",
    "val_acc = history.history['val_accuracy']\n",
    "\n",
    "loss = history.history['loss']\n",
    "val_loss = history.history['val_loss']\n",
    "\n",
    "epochs_range = range(config.epochs)\n",
    "\n",
    "plt.figure(figsize=(8, 8))\n",
    "plt.subplot(1, 2, 1)\n",
    "plt.plot(epochs_range, acc, label='Training Accuracy')\n",
    "plt.plot(epochs_range, val_acc, label='Validation Accuracy')\n",
    "plt.legend(loc='lower right')\n",
    "plt.title('Training and Validation Accuracy')\n",
    "\n",
    "plt.subplot(1, 2, 2)\n",
    "plt.plot(epochs_range, loss, label='Training Loss')\n",
    "plt.plot(epochs_range, val_loss, label='Validation Loss')\n",
    "plt.legend(loc='upper right')\n",
    "plt.title('Training and Validation Loss')\n",
    "plt.show()"
   ]
  },
  {
   "cell_type": "markdown",
   "metadata": {},
   "source": [
    "### Evaluate model"
   ]
  },
  {
   "cell_type": "code",
   "execution_count": 13,
   "metadata": {},
   "outputs": [
    {
     "name": "stderr",
     "output_type": "stream",
     "text": [
      "100%|██████████| 75/75 [00:01<00:00, 58.94it/s]\n",
      "100%|██████████| 75/75 [00:01<00:00, 47.87it/s]\n",
      "C:\\Users\\henriks\\AppData\\Local\\Temp/ipykernel_3796/117894631.py:43: VisibleDeprecationWarning: Creating an ndarray from ragged nested sequences (which is a list-or-tuple of lists-or-tuples-or ndarrays with different lengths or shapes) is deprecated. If you meant to do this, you must specify 'dtype=object' when creating the ndarray.\n",
      "  all_data = np.array(all_data)\n"
     ]
    },
    {
     "name": "stdout",
     "output_type": "stream",
     "text": [
      "train_x shape: (150, 22, 128, 128, 3), train_y shape: (150,)\n"
     ]
    }
   ],
   "source": [
    "# Get tets data\n",
    "folder = \"./data/data-large/data/test\"\n",
    "test_x, test_y = get_padded_video_data(folder) \n",
    "print(f\"train_x shape: {test_x.shape}, train_y shape: {test_y.shape}\")"
   ]
  },
  {
   "cell_type": "code",
   "execution_count": 14,
   "metadata": {},
   "outputs": [
    {
     "name": "stdout",
     "output_type": "stream",
     "text": [
      "5/5 [==============================] - 56s 11s/step - loss: 0.7738 - accuracy: 0.5000\n",
      "Accuracy: 50.00%\n"
     ]
    }
   ],
   "source": [
    "# evaluate model\n",
    "scores = model.evaluate(test_x, test_y, verbose=1)\n",
    "print(\"Accuracy: %.2f%%\" % (scores[1]*100))\n",
    "\n",
    "\n",
    "\n",
    "\n",
    "# predictions = model.predict(test_x)\n",
    "# predictions = np.round(predictions)\n",
    "# predictions = predictions.astype(int)\n"
   ]
  }
 ],
 "metadata": {
  "interpreter": {
   "hash": "6186f98b4107da167f8e04d2b53209365f80479d5668ca57b5633229f74e4af5"
  },
  "kernelspec": {
   "display_name": "Python 3.9.5 64-bit",
   "language": "python",
   "name": "python3"
  },
  "language_info": {
   "codemirror_mode": {
    "name": "ipython",
    "version": 3
   },
   "file_extension": ".py",
   "mimetype": "text/x-python",
   "name": "python",
   "nbconvert_exporter": "python",
   "pygments_lexer": "ipython3",
   "version": "3.9.5"
  },
  "orig_nbformat": 4
 },
 "nbformat": 4,
 "nbformat_minor": 2
}
