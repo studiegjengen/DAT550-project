{
 "cells": [
  {
   "cell_type": "code",
   "execution_count": 33,
   "metadata": {},
   "outputs": [],
   "source": [
    "from utils.predict import predict_multiple\n",
    "from wandb import wandb\n",
    "from keras.models import load_model\n",
    "from sklearn.metrics import accuracy_score, recall_score, precision_score"
   ]
  },
  {
   "cell_type": "code",
   "execution_count": 41,
   "metadata": {},
   "outputs": [],
   "source": [
    "# Load model and weights from wandb\n",
    "loaded_model = wandb.restore('model-best.h5', run_path=\"dat550/deepfake-resnet/runs/2wxf3t3n\")\n",
    "\n",
    "model = load_model(loaded_model.name)"
   ]
  },
  {
   "cell_type": "code",
   "execution_count": 42,
   "metadata": {},
   "outputs": [
    {
     "name": "stderr",
     "output_type": "stream",
     "text": [
      "100%|██████████| 400/400 [12:12<00:00,  1.83s/it]\n"
     ]
    }
   ],
   "source": [
    "result = predict_multiple(\"./train_sample_videos\", model,frame_rate=1, plot=False)"
   ]
  },
  {
   "cell_type": "code",
   "execution_count": 43,
   "metadata": {},
   "outputs": [
    {
     "data": {
      "text/html": [
       "<div>\n",
       "<style scoped>\n",
       "    .dataframe tbody tr th:only-of-type {\n",
       "        vertical-align: middle;\n",
       "    }\n",
       "\n",
       "    .dataframe tbody tr th {\n",
       "        vertical-align: top;\n",
       "    }\n",
       "\n",
       "    .dataframe thead th {\n",
       "        text-align: right;\n",
       "    }\n",
       "</style>\n",
       "<table border=\"1\" class=\"dataframe\">\n",
       "  <thead>\n",
       "    <tr style=\"text-align: right;\">\n",
       "      <th></th>\n",
       "      <th>video_name</th>\n",
       "      <th>prediction</th>\n",
       "      <th>predicted_class</th>\n",
       "      <th>real_class</th>\n",
       "    </tr>\n",
       "  </thead>\n",
       "  <tbody>\n",
       "    <tr>\n",
       "      <th>0</th>\n",
       "      <td>cdaxixbosp.mp4</td>\n",
       "      <td>0.986589</td>\n",
       "      <td>FAKE</td>\n",
       "      <td>FAKE</td>\n",
       "    </tr>\n",
       "    <tr>\n",
       "      <th>1</th>\n",
       "      <td>btiysiskpf.mp4</td>\n",
       "      <td>0.901312</td>\n",
       "      <td>FAKE</td>\n",
       "      <td>FAKE</td>\n",
       "    </tr>\n",
       "    <tr>\n",
       "      <th>2</th>\n",
       "      <td>clihsshdkq.mp4</td>\n",
       "      <td>0.634817</td>\n",
       "      <td>FAKE</td>\n",
       "      <td>FAKE</td>\n",
       "    </tr>\n",
       "    <tr>\n",
       "      <th>3</th>\n",
       "      <td>alvgwypubw.mp4</td>\n",
       "      <td>0.997896</td>\n",
       "      <td>FAKE</td>\n",
       "      <td>FAKE</td>\n",
       "    </tr>\n",
       "    <tr>\n",
       "      <th>4</th>\n",
       "      <td>eqvuznuwsa.mp4</td>\n",
       "      <td>0.998362</td>\n",
       "      <td>FAKE</td>\n",
       "      <td>FAKE</td>\n",
       "    </tr>\n",
       "    <tr>\n",
       "      <th>...</th>\n",
       "      <td>...</td>\n",
       "      <td>...</td>\n",
       "      <td>...</td>\n",
       "      <td>...</td>\n",
       "    </tr>\n",
       "    <tr>\n",
       "      <th>357</th>\n",
       "      <td>dkwjwbwgey.mp4</td>\n",
       "      <td>0.666718</td>\n",
       "      <td>FAKE</td>\n",
       "      <td>FAKE</td>\n",
       "    </tr>\n",
       "    <tr>\n",
       "      <th>358</th>\n",
       "      <td>esckbnkkvb.mp4</td>\n",
       "      <td>0.993176</td>\n",
       "      <td>FAKE</td>\n",
       "      <td>FAKE</td>\n",
       "    </tr>\n",
       "    <tr>\n",
       "      <th>359</th>\n",
       "      <td>eczrseixwq.mp4</td>\n",
       "      <td>0.894817</td>\n",
       "      <td>FAKE</td>\n",
       "      <td>FAKE</td>\n",
       "    </tr>\n",
       "    <tr>\n",
       "      <th>360</th>\n",
       "      <td>dlrsbscitn.mp4</td>\n",
       "      <td>0.771909</td>\n",
       "      <td>FAKE</td>\n",
       "      <td>FAKE</td>\n",
       "    </tr>\n",
       "    <tr>\n",
       "      <th>361</th>\n",
       "      <td>dafhtipaml.mp4</td>\n",
       "      <td>0.915471</td>\n",
       "      <td>FAKE</td>\n",
       "      <td>FAKE</td>\n",
       "    </tr>\n",
       "  </tbody>\n",
       "</table>\n",
       "<p>362 rows × 4 columns</p>\n",
       "</div>"
      ],
      "text/plain": [
       "         video_name  prediction predicted_class real_class\n",
       "0    cdaxixbosp.mp4    0.986589            FAKE       FAKE\n",
       "1    btiysiskpf.mp4    0.901312            FAKE       FAKE\n",
       "2    clihsshdkq.mp4    0.634817            FAKE       FAKE\n",
       "3    alvgwypubw.mp4    0.997896            FAKE       FAKE\n",
       "4    eqvuznuwsa.mp4    0.998362            FAKE       FAKE\n",
       "..              ...         ...             ...        ...\n",
       "357  dkwjwbwgey.mp4    0.666718            FAKE       FAKE\n",
       "358  esckbnkkvb.mp4    0.993176            FAKE       FAKE\n",
       "359  eczrseixwq.mp4    0.894817            FAKE       FAKE\n",
       "360  dlrsbscitn.mp4    0.771909            FAKE       FAKE\n",
       "361  dafhtipaml.mp4    0.915471            FAKE       FAKE\n",
       "\n",
       "[362 rows x 4 columns]"
      ]
     },
     "execution_count": 43,
     "metadata": {},
     "output_type": "execute_result"
    }
   ],
   "source": [
    "result"
   ]
  },
  {
   "cell_type": "code",
   "execution_count": 45,
   "metadata": {},
   "outputs": [
    {
     "data": {
      "text/plain": [
       "0.7679558011049724"
      ]
     },
     "execution_count": 45,
     "metadata": {},
     "output_type": "execute_result"
    }
   ],
   "source": [
    "# Calulate accuracy\n",
    "accuracy = accuracy_score(result['real_class'], result['predicted_class'])\n",
    "accuracy"
   ]
  },
  {
   "cell_type": "code",
   "execution_count": 46,
   "metadata": {},
   "outputs": [
    {
     "data": {
      "text/plain": [
       "0.6463601532567049"
      ]
     },
     "execution_count": 46,
     "metadata": {},
     "output_type": "execute_result"
    }
   ],
   "source": [
    "# Calculate recall\n",
    "recall = recall_score(result['real_class'], result['predicted_class'], average='macro')\n",
    "recall"
   ]
  },
  {
   "cell_type": "code",
   "execution_count": 47,
   "metadata": {},
   "outputs": [
    {
     "data": {
      "text/plain": [
       "0.6405962458594037"
      ]
     },
     "execution_count": 47,
     "metadata": {},
     "output_type": "execute_result"
    }
   ],
   "source": [
    "# Calculate precision\n",
    "precision = precision_score(result['real_class'], result['predicted_class'], average='macro')\n",
    "precision"
   ]
  }
 ],
 "metadata": {
  "interpreter": {
   "hash": "aee8b7b246df8f9039afb4144a1f6fd8d2ca17a180786b69acc140d282b71a49"
  },
  "kernelspec": {
   "display_name": "Python 3.9.4 64-bit",
   "language": "python",
   "name": "python3"
  },
  "language_info": {
   "codemirror_mode": {
    "name": "ipython",
    "version": 3
   },
   "file_extension": ".py",
   "mimetype": "text/x-python",
   "name": "python",
   "nbconvert_exporter": "python",
   "pygments_lexer": "ipython3",
   "version": "3.9.4"
  },
  "orig_nbformat": 4
 },
 "nbformat": 4,
 "nbformat_minor": 2
}
