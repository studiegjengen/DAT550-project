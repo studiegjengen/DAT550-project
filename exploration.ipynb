{
 "cells": [
  {
   "cell_type": "code",
   "execution_count": null,
   "metadata": {},
   "outputs": [],
   "source": [
    "import pandas as pd\n",
    "from plotly import graph_objs as go\n",
    "import matplotlib.pyplot as plt\n",
    "import cv2\n",
    "import face_recognition\n",
    "import os"
   ]
  },
  {
   "cell_type": "markdown",
   "metadata": {},
   "source": [
    "# 1. Data exploration"
   ]
  },
  {
   "cell_type": "code",
   "execution_count": null,
   "metadata": {},
   "outputs": [],
   "source": [
    "data = pd.read_json(\"./data/train_sample_videos/metadata.json\").T\n",
    "data"
   ]
  },
  {
   "cell_type": "code",
   "execution_count": null,
   "metadata": {},
   "outputs": [],
   "source": [
    "# Count number of label is REAL and FAKE \n",
    "data.label.value_counts()\n",
    "\n",
    "# Plot REAL vs fake in plot\n",
    "labels = data.label.value_counts().index\n",
    "values = data.label.value_counts().values\n",
    "# Plot\n",
    "fig = go.Figure(data=[go.Pie(labels=labels, values=values)])\n",
    "fig.show()\n"
   ]
  },
  {
   "cell_type": "markdown",
   "metadata": {},
   "source": [
    "A baseline for this project can be to always predict FAKE as this is what occurs most often"
   ]
  },
  {
   "cell_type": "markdown",
   "metadata": {},
   "source": [
    "# 2. Data preparation"
   ]
  },
  {
   "cell_type": "markdown",
   "metadata": {},
   "source": [
    "Finding faces in videos..."
   ]
  },
  {
   "cell_type": "code",
   "execution_count": null,
   "metadata": {},
   "outputs": [],
   "source": [
    "path = \"./data/train_sample_videos/\"\n",
    "\n",
    "# Get all files in directory\n",
    "files = os.listdir(path)\n",
    "\n",
    "# Only keep .mp4 files\n",
    "files = [f for f in files if f.endswith(\".mp4\")]\n",
    "\n",
    "for video in files:\n",
    "    vidcap = cv2.VideoCapture(f\"{path}{video}\")\n",
    "\n",
    "    def find_faces(image):\n",
    "        face_locations = face_recognition.face_locations(image)\n",
    "        for face_location in face_locations:\n",
    "            # Print the location of each face in this image\n",
    "            top, right, bottom, left = face_location\n",
    "            # Access the actual face itself:\n",
    "            face_image = image[top:bottom, left:right]\n",
    "            return face_image\n",
    "\n",
    "    def getFrame(sec):\n",
    "        vidcap.set(cv2.CAP_PROP_POS_MSEC,sec*1000)\n",
    "        hasFrames,image = vidcap.read()\n",
    "        face_image = None\n",
    "        if hasFrames:\n",
    "            face_image = find_faces(image)\n",
    "        return hasFrames, face_image\n",
    "\n",
    "    sec = 0\n",
    "    frameRate = 0.5 # it will capture image in each 0.5 second\n",
    "    count=1\n",
    "    success = getFrame(sec)\n",
    "\n",
    "    while success:\n",
    "        sec = sec + frameRate\n",
    "        sec = round(sec, 2)\n",
    "        success, face_image = getFrame(sec)\n",
    "        # Write image to folder\n",
    "        if face_image is not None:\n",
    "            # Ensure folder is created\n",
    "            if not os.path.exists(f\"./data/processed/{video}\"):\n",
    "                os.makedirs(f\"./data/processed/{video}\")\n",
    "            cv2.imwrite(f\"./data/processed/{video}/{count}.jpg\", face_image)\n",
    "        count = count + 1\n",
    "\n",
    "    vidcap.release()\n",
    "    cv2.destroyAllWindows()"
   ]
  },
  {
   "cell_type": "code",
   "execution_count": null,
   "metadata": {},
   "outputs": [],
   "source": []
  }
 ],
 "metadata": {
  "interpreter": {
   "hash": "aee8b7b246df8f9039afb4144a1f6fd8d2ca17a180786b69acc140d282b71a49"
  },
  "kernelspec": {
   "display_name": "Python 3.9.4 64-bit",
   "language": "python",
   "name": "python3"
  },
  "language_info": {
   "codemirror_mode": {
    "name": "ipython",
    "version": 3
   },
   "file_extension": ".py",
   "mimetype": "text/x-python",
   "name": "python",
   "nbconvert_exporter": "python",
   "pygments_lexer": "ipython3",
   "version": "3.9.4"
  },
  "orig_nbformat": 4
 },
 "nbformat": 4,
 "nbformat_minor": 2
}
